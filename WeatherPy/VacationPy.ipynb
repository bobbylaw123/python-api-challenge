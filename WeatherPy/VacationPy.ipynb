{
 "cells": [
  {
   "cell_type": "markdown",
   "metadata": {},
   "source": [
    "# VacationPy\n",
    "----\n",
    "\n",
    "#### Note\n",
    "* Keep an eye on your API usage. Use https://developers.google.com/maps/reporting/gmp-reporting as reference for how to monitor your usage and billing.\n",
    "\n",
    "* Instructions have been included for each segment. You do not have to follow them exactly, but they are included to help you think through the steps."
   ]
  },
  {
   "cell_type": "code",
   "execution_count": 1,
   "metadata": {},
   "outputs": [],
   "source": [
    "# Dependencies and Setup\n",
    "import matplotlib.pyplot as plt\n",
    "import pandas as pd\n",
    "import numpy as np\n",
    "import requests\n",
    "import gmaps\n",
    "import os\n",
    "import json\n",
    "from pprint import pprint\n",
    "\n",
    "# Import API key\n",
    "from api_keys import g_key\n",
    "# Configure gmaps\n",
    "gmaps.configure(api_key=g_key)"
   ]
  },
  {
   "cell_type": "markdown",
   "metadata": {},
   "source": [
    "### Store Part I results into DataFrame\n",
    "* Load the csv exported in Part I to a DataFrame"
   ]
  },
  {
   "cell_type": "code",
   "execution_count": 2,
   "metadata": {},
   "outputs": [
    {
     "output_type": "execute_result",
     "data": {
      "text/plain": [
       "   Unnamed: 0           City    Lat     Lng  Max Temp  Humidity  Cloudiness  \\\n",
       "0           0       Barcelos  41.54   -8.62     51.80        71          75   \n",
       "1           1    San Quintín  30.48 -115.95     57.97        74           0   \n",
       "2           2  Mar del Plata -38.00  -57.56     57.99        82          90   \n",
       "3           3       Ābu Road  24.48   72.78     73.67        29           0   \n",
       "4           4      Cape Town -33.93   18.42     62.01        72           0   \n",
       "\n",
       "   Wind Speed Country        Date  \n",
       "0       13.87      PT  1607049940  \n",
       "1        0.67      MX  1607049940  \n",
       "2        5.82      AR  1607049765  \n",
       "3        2.53      IN  1607049940  \n",
       "4       25.28      ZA  1607049902  "
      ],
      "text/html": "<div>\n<style scoped>\n    .dataframe tbody tr th:only-of-type {\n        vertical-align: middle;\n    }\n\n    .dataframe tbody tr th {\n        vertical-align: top;\n    }\n\n    .dataframe thead th {\n        text-align: right;\n    }\n</style>\n<table border=\"1\" class=\"dataframe\">\n  <thead>\n    <tr style=\"text-align: right;\">\n      <th></th>\n      <th>Unnamed: 0</th>\n      <th>City</th>\n      <th>Lat</th>\n      <th>Lng</th>\n      <th>Max Temp</th>\n      <th>Humidity</th>\n      <th>Cloudiness</th>\n      <th>Wind Speed</th>\n      <th>Country</th>\n      <th>Date</th>\n    </tr>\n  </thead>\n  <tbody>\n    <tr>\n      <th>0</th>\n      <td>0</td>\n      <td>Barcelos</td>\n      <td>41.54</td>\n      <td>-8.62</td>\n      <td>51.80</td>\n      <td>71</td>\n      <td>75</td>\n      <td>13.87</td>\n      <td>PT</td>\n      <td>1607049940</td>\n    </tr>\n    <tr>\n      <th>1</th>\n      <td>1</td>\n      <td>San Quintín</td>\n      <td>30.48</td>\n      <td>-115.95</td>\n      <td>57.97</td>\n      <td>74</td>\n      <td>0</td>\n      <td>0.67</td>\n      <td>MX</td>\n      <td>1607049940</td>\n    </tr>\n    <tr>\n      <th>2</th>\n      <td>2</td>\n      <td>Mar del Plata</td>\n      <td>-38.00</td>\n      <td>-57.56</td>\n      <td>57.99</td>\n      <td>82</td>\n      <td>90</td>\n      <td>5.82</td>\n      <td>AR</td>\n      <td>1607049765</td>\n    </tr>\n    <tr>\n      <th>3</th>\n      <td>3</td>\n      <td>Ābu Road</td>\n      <td>24.48</td>\n      <td>72.78</td>\n      <td>73.67</td>\n      <td>29</td>\n      <td>0</td>\n      <td>2.53</td>\n      <td>IN</td>\n      <td>1607049940</td>\n    </tr>\n    <tr>\n      <th>4</th>\n      <td>4</td>\n      <td>Cape Town</td>\n      <td>-33.93</td>\n      <td>18.42</td>\n      <td>62.01</td>\n      <td>72</td>\n      <td>0</td>\n      <td>25.28</td>\n      <td>ZA</td>\n      <td>1607049902</td>\n    </tr>\n  </tbody>\n</table>\n</div>"
     },
     "metadata": {},
     "execution_count": 2
    }
   ],
   "source": [
    "csvfile = 'Weather_DF.csv'\n",
    "weather_df = pd.read_csv(csvfile)\n",
    "weather_df.head()"
   ]
  },
  {
   "cell_type": "markdown",
   "metadata": {},
   "source": [
    "### Humidity Heatmap\n",
    "* Configure gmaps.\n",
    "* Use the Lat and Lng as locations and Humidity as the weight.\n",
    "* Add Heatmap layer to map."
   ]
  },
  {
   "cell_type": "code",
   "execution_count": 3,
   "metadata": {},
   "outputs": [],
   "source": [
    "gmaps.configure(api_key = g_key)"
   ]
  },
  {
   "cell_type": "code",
   "execution_count": 4,
   "metadata": {},
   "outputs": [
    {
     "output_type": "display_data",
     "data": {
      "text/plain": "Figure(layout=FigureLayout(border='2px solid black', height='500px', margin='0 auto 0 auto', padding='1px', wi…",
      "application/vnd.jupyter.widget-view+json": {
       "version_major": 2,
       "version_minor": 0,
       "model_id": "12caf9f044664c46869f0588736bfe01"
      }
     },
     "metadata": {}
    }
   ],
   "source": [
    "latlonglocations = weather_df[[\"Lat\", \"Lng\"]]\n",
    "weight = weather_df[\"Humidity\"].astype(float)\n",
    "figure_layout = {\n",
    "    'width': '900px',\n",
    "    'height': '500px',\n",
    "    'border': '2px solid black',\n",
    "    'padding': '1px',\n",
    "    'margin': '0 auto 0 auto'\n",
    "}\n",
    "fig = gmaps.figure(layout=figure_layout)\n",
    "\n",
    "# Create heat layer\n",
    "heat_layer = gmaps.heatmap_layer(latlonglocations, weights=weight, \n",
    "                                 dissipating=False, max_intensity = 100,\n",
    "                                 point_radius=2)\n",
    "fig.add_layer(heat_layer)\n",
    "\n",
    "# Display figure\n",
    "fig"
   ]
  },
  {
   "cell_type": "markdown",
   "metadata": {},
   "source": [
    "### Create new DataFrame fitting weather criteria\n",
    "* Narrow down the cities to fit weather conditions.\n",
    "* Drop any rows will null values."
   ]
  },
  {
   "cell_type": "code",
   "execution_count": 5,
   "metadata": {},
   "outputs": [
    {
     "output_type": "execute_result",
     "data": {
      "text/plain": [
       "             City    Lat     Lng  Max Temp  Humidity  Cloudiness  Wind Speed  \\\n",
       "3        Ābu Road  24.48   72.78     73.67        29           0        2.53   \n",
       "15   Saint George  37.10 -113.58     41.00        19           1        3.36   \n",
       "69         Bassar   9.25    0.78     70.72        24           0        2.33   \n",
       "115    Kiryat Gat  31.61   34.76     57.00        10           0        3.85   \n",
       "119         Kidal  18.44    1.41     70.11        23          15        4.00   \n",
       "122        Aranos -24.13   19.12     68.50        25           0        0.74   \n",
       "139    San Rafael -34.62  -68.33     62.85        31           0        2.33   \n",
       "158        Sokolo  14.73   -6.12     73.29        21           0        5.84   \n",
       "205          Gaza  31.50   34.47     57.00        10           0        5.79   \n",
       "334       Gogrial   8.53   28.10     69.42        26          15        3.96   \n",
       "375         Bilma  18.69   12.92     64.80        27           0        6.06   \n",
       "505      Araouane  18.90   -3.53     74.39        20           5        5.21   \n",
       "513        Gashua  12.87   11.05     67.87        24          51        7.16   \n",
       "528      Ouargaye  11.50    0.06     74.21        20           0        6.69   \n",
       "547        Tanout  14.97    8.89     69.22        21           6        7.94   \n",
       "\n",
       "    Country        Date  \n",
       "3        IN  1607049940  \n",
       "15       US  1607049852  \n",
       "69       TG  1607049946  \n",
       "115      IL  1607049951  \n",
       "119      ML  1607049951  \n",
       "122     NaN  1607049952  \n",
       "139      AR  1607049953  \n",
       "158      ML  1607049955  \n",
       "205      PS  1607049959  \n",
       "334      SS  1607049972  \n",
       "375      NE  1607049976  \n",
       "505      ML  1607049988  \n",
       "513      NG  1607049989  \n",
       "528      BF  1607049991  \n",
       "547      NE  1607049992  "
      ],
      "text/html": "<div>\n<style scoped>\n    .dataframe tbody tr th:only-of-type {\n        vertical-align: middle;\n    }\n\n    .dataframe tbody tr th {\n        vertical-align: top;\n    }\n\n    .dataframe thead th {\n        text-align: right;\n    }\n</style>\n<table border=\"1\" class=\"dataframe\">\n  <thead>\n    <tr style=\"text-align: right;\">\n      <th></th>\n      <th>City</th>\n      <th>Lat</th>\n      <th>Lng</th>\n      <th>Max Temp</th>\n      <th>Humidity</th>\n      <th>Cloudiness</th>\n      <th>Wind Speed</th>\n      <th>Country</th>\n      <th>Date</th>\n    </tr>\n  </thead>\n  <tbody>\n    <tr>\n      <th>3</th>\n      <td>Ābu Road</td>\n      <td>24.48</td>\n      <td>72.78</td>\n      <td>73.67</td>\n      <td>29</td>\n      <td>0</td>\n      <td>2.53</td>\n      <td>IN</td>\n      <td>1607049940</td>\n    </tr>\n    <tr>\n      <th>15</th>\n      <td>Saint George</td>\n      <td>37.10</td>\n      <td>-113.58</td>\n      <td>41.00</td>\n      <td>19</td>\n      <td>1</td>\n      <td>3.36</td>\n      <td>US</td>\n      <td>1607049852</td>\n    </tr>\n    <tr>\n      <th>69</th>\n      <td>Bassar</td>\n      <td>9.25</td>\n      <td>0.78</td>\n      <td>70.72</td>\n      <td>24</td>\n      <td>0</td>\n      <td>2.33</td>\n      <td>TG</td>\n      <td>1607049946</td>\n    </tr>\n    <tr>\n      <th>115</th>\n      <td>Kiryat Gat</td>\n      <td>31.61</td>\n      <td>34.76</td>\n      <td>57.00</td>\n      <td>10</td>\n      <td>0</td>\n      <td>3.85</td>\n      <td>IL</td>\n      <td>1607049951</td>\n    </tr>\n    <tr>\n      <th>119</th>\n      <td>Kidal</td>\n      <td>18.44</td>\n      <td>1.41</td>\n      <td>70.11</td>\n      <td>23</td>\n      <td>15</td>\n      <td>4.00</td>\n      <td>ML</td>\n      <td>1607049951</td>\n    </tr>\n    <tr>\n      <th>122</th>\n      <td>Aranos</td>\n      <td>-24.13</td>\n      <td>19.12</td>\n      <td>68.50</td>\n      <td>25</td>\n      <td>0</td>\n      <td>0.74</td>\n      <td>NaN</td>\n      <td>1607049952</td>\n    </tr>\n    <tr>\n      <th>139</th>\n      <td>San Rafael</td>\n      <td>-34.62</td>\n      <td>-68.33</td>\n      <td>62.85</td>\n      <td>31</td>\n      <td>0</td>\n      <td>2.33</td>\n      <td>AR</td>\n      <td>1607049953</td>\n    </tr>\n    <tr>\n      <th>158</th>\n      <td>Sokolo</td>\n      <td>14.73</td>\n      <td>-6.12</td>\n      <td>73.29</td>\n      <td>21</td>\n      <td>0</td>\n      <td>5.84</td>\n      <td>ML</td>\n      <td>1607049955</td>\n    </tr>\n    <tr>\n      <th>205</th>\n      <td>Gaza</td>\n      <td>31.50</td>\n      <td>34.47</td>\n      <td>57.00</td>\n      <td>10</td>\n      <td>0</td>\n      <td>5.79</td>\n      <td>PS</td>\n      <td>1607049959</td>\n    </tr>\n    <tr>\n      <th>334</th>\n      <td>Gogrial</td>\n      <td>8.53</td>\n      <td>28.10</td>\n      <td>69.42</td>\n      <td>26</td>\n      <td>15</td>\n      <td>3.96</td>\n      <td>SS</td>\n      <td>1607049972</td>\n    </tr>\n    <tr>\n      <th>375</th>\n      <td>Bilma</td>\n      <td>18.69</td>\n      <td>12.92</td>\n      <td>64.80</td>\n      <td>27</td>\n      <td>0</td>\n      <td>6.06</td>\n      <td>NE</td>\n      <td>1607049976</td>\n    </tr>\n    <tr>\n      <th>505</th>\n      <td>Araouane</td>\n      <td>18.90</td>\n      <td>-3.53</td>\n      <td>74.39</td>\n      <td>20</td>\n      <td>5</td>\n      <td>5.21</td>\n      <td>ML</td>\n      <td>1607049988</td>\n    </tr>\n    <tr>\n      <th>513</th>\n      <td>Gashua</td>\n      <td>12.87</td>\n      <td>11.05</td>\n      <td>67.87</td>\n      <td>24</td>\n      <td>51</td>\n      <td>7.16</td>\n      <td>NG</td>\n      <td>1607049989</td>\n    </tr>\n    <tr>\n      <th>528</th>\n      <td>Ouargaye</td>\n      <td>11.50</td>\n      <td>0.06</td>\n      <td>74.21</td>\n      <td>20</td>\n      <td>0</td>\n      <td>6.69</td>\n      <td>BF</td>\n      <td>1607049991</td>\n    </tr>\n    <tr>\n      <th>547</th>\n      <td>Tanout</td>\n      <td>14.97</td>\n      <td>8.89</td>\n      <td>69.22</td>\n      <td>21</td>\n      <td>6</td>\n      <td>7.94</td>\n      <td>NE</td>\n      <td>1607049992</td>\n    </tr>\n  </tbody>\n</table>\n</div>"
     },
     "metadata": {},
     "execution_count": 5
    }
   ],
   "source": [
    "\n",
    "#My weather conditions: Max Temp </= 80, windspeed < 10, < 60 cloudiness, humidity < 40\n",
    "# I am going to do a .loc with conjunctions to find my desired cities.\n",
    "myweather_df = weather_df.loc[(weather_df['Max Temp'] <= 80)\\\n",
    "                              & (weather_df['Wind Speed'] <= 10)\\\n",
    "                              & (weather_df['Cloudiness'] < 60)\\\n",
    "                             & (weather_df['Humidity']< 35)]\n",
    "# Drop null/NA values and display DF\n",
    "myweather_df.dropna()\n",
    "myweather_df = myweather_df.drop(columns=['Unnamed: 0'])\n",
    "myweather_df"
   ]
  },
  {
   "cell_type": "markdown",
   "metadata": {},
   "source": [
    "### Hotel Map\n",
    "* Store into variable named `hotel_df`.\n",
    "* Add a \"Hotel Name\" column to the DataFrame.\n",
    "* Set parameters to search for hotels with 5000 meters.\n",
    "* Hit the Google Places API for each city's coordinates.\n",
    "* Store the first Hotel result into the DataFrame.\n",
    "* Plot markers on top of the heatmap."
   ]
  },
  {
   "cell_type": "code",
   "execution_count": 6,
   "metadata": {},
   "outputs": [
    {
     "output_type": "execute_result",
     "data": {
      "text/plain": [
       "             City Country    Lat     Lng Hotel Name Hotel Lat Hotel Lng\n",
       "3        Ābu Road      IN  24.48   72.78                               \n",
       "15   Saint George      US  37.10 -113.58                               \n",
       "69         Bassar      TG   9.25    0.78                               \n",
       "115    Kiryat Gat      IL  31.61   34.76                               \n",
       "119         Kidal      ML  18.44    1.41                               \n",
       "122        Aranos     NaN -24.13   19.12                               \n",
       "139    San Rafael      AR -34.62  -68.33                               \n",
       "158        Sokolo      ML  14.73   -6.12                               \n",
       "205          Gaza      PS  31.50   34.47                               \n",
       "334       Gogrial      SS   8.53   28.10                               \n",
       "375         Bilma      NE  18.69   12.92                               \n",
       "505      Araouane      ML  18.90   -3.53                               \n",
       "513        Gashua      NG  12.87   11.05                               \n",
       "528      Ouargaye      BF  11.50    0.06                               \n",
       "547        Tanout      NE  14.97    8.89                               "
      ],
      "text/html": "<div>\n<style scoped>\n    .dataframe tbody tr th:only-of-type {\n        vertical-align: middle;\n    }\n\n    .dataframe tbody tr th {\n        vertical-align: top;\n    }\n\n    .dataframe thead th {\n        text-align: right;\n    }\n</style>\n<table border=\"1\" class=\"dataframe\">\n  <thead>\n    <tr style=\"text-align: right;\">\n      <th></th>\n      <th>City</th>\n      <th>Country</th>\n      <th>Lat</th>\n      <th>Lng</th>\n      <th>Hotel Name</th>\n      <th>Hotel Lat</th>\n      <th>Hotel Lng</th>\n    </tr>\n  </thead>\n  <tbody>\n    <tr>\n      <th>3</th>\n      <td>Ābu Road</td>\n      <td>IN</td>\n      <td>24.48</td>\n      <td>72.78</td>\n      <td></td>\n      <td></td>\n      <td></td>\n    </tr>\n    <tr>\n      <th>15</th>\n      <td>Saint George</td>\n      <td>US</td>\n      <td>37.10</td>\n      <td>-113.58</td>\n      <td></td>\n      <td></td>\n      <td></td>\n    </tr>\n    <tr>\n      <th>69</th>\n      <td>Bassar</td>\n      <td>TG</td>\n      <td>9.25</td>\n      <td>0.78</td>\n      <td></td>\n      <td></td>\n      <td></td>\n    </tr>\n    <tr>\n      <th>115</th>\n      <td>Kiryat Gat</td>\n      <td>IL</td>\n      <td>31.61</td>\n      <td>34.76</td>\n      <td></td>\n      <td></td>\n      <td></td>\n    </tr>\n    <tr>\n      <th>119</th>\n      <td>Kidal</td>\n      <td>ML</td>\n      <td>18.44</td>\n      <td>1.41</td>\n      <td></td>\n      <td></td>\n      <td></td>\n    </tr>\n    <tr>\n      <th>122</th>\n      <td>Aranos</td>\n      <td>NaN</td>\n      <td>-24.13</td>\n      <td>19.12</td>\n      <td></td>\n      <td></td>\n      <td></td>\n    </tr>\n    <tr>\n      <th>139</th>\n      <td>San Rafael</td>\n      <td>AR</td>\n      <td>-34.62</td>\n      <td>-68.33</td>\n      <td></td>\n      <td></td>\n      <td></td>\n    </tr>\n    <tr>\n      <th>158</th>\n      <td>Sokolo</td>\n      <td>ML</td>\n      <td>14.73</td>\n      <td>-6.12</td>\n      <td></td>\n      <td></td>\n      <td></td>\n    </tr>\n    <tr>\n      <th>205</th>\n      <td>Gaza</td>\n      <td>PS</td>\n      <td>31.50</td>\n      <td>34.47</td>\n      <td></td>\n      <td></td>\n      <td></td>\n    </tr>\n    <tr>\n      <th>334</th>\n      <td>Gogrial</td>\n      <td>SS</td>\n      <td>8.53</td>\n      <td>28.10</td>\n      <td></td>\n      <td></td>\n      <td></td>\n    </tr>\n    <tr>\n      <th>375</th>\n      <td>Bilma</td>\n      <td>NE</td>\n      <td>18.69</td>\n      <td>12.92</td>\n      <td></td>\n      <td></td>\n      <td></td>\n    </tr>\n    <tr>\n      <th>505</th>\n      <td>Araouane</td>\n      <td>ML</td>\n      <td>18.90</td>\n      <td>-3.53</td>\n      <td></td>\n      <td></td>\n      <td></td>\n    </tr>\n    <tr>\n      <th>513</th>\n      <td>Gashua</td>\n      <td>NG</td>\n      <td>12.87</td>\n      <td>11.05</td>\n      <td></td>\n      <td></td>\n      <td></td>\n    </tr>\n    <tr>\n      <th>528</th>\n      <td>Ouargaye</td>\n      <td>BF</td>\n      <td>11.50</td>\n      <td>0.06</td>\n      <td></td>\n      <td></td>\n      <td></td>\n    </tr>\n    <tr>\n      <th>547</th>\n      <td>Tanout</td>\n      <td>NE</td>\n      <td>14.97</td>\n      <td>8.89</td>\n      <td></td>\n      <td></td>\n      <td></td>\n    </tr>\n  </tbody>\n</table>\n</div>"
     },
     "metadata": {},
     "execution_count": 6
    }
   ],
   "source": [
    "hotel_df = myweather_df.loc[:,[\"City\",\"Country\", \"Lat\", \"Lng\"]]\n",
    "hotel_df['Hotel Name']=\"\"\n",
    "hotel_df['Hotel Lat']=\"\"\n",
    "hotel_df['Hotel Lng']=\"\"\n",
    "hotel_df"
   ]
  },
  {
   "cell_type": "code",
   "execution_count": 7,
   "metadata": {
    "tags": []
   },
   "outputs": [],
   "source": [
    "# Set up Parameter variables\n",
    "target_search = \"hotel\"\n",
    "target_radius = 5000\n",
    "target_type = \"lodging\"\n",
    "# set up a Parameters dictionary\n",
    "params = {\"keyword\": target_search,\"radius\": target_radius,\"type\": target_type,\"key\": g_key}\n",
    "# Base URL\n",
    "base_url = \"https://maps.googleapis.com/maps/api/place/nearbysearch/json\"\n",
    "response = requests.get(base_url, params=params).json()"
   ]
  },
  {
   "cell_type": "code",
   "execution_count": 8,
   "metadata": {
    "tags": []
   },
   "outputs": [
    {
     "output_type": "stream",
     "name": "stdout",
     "text": [
      "\n",
      "---------------------\n",
      "Beginning your search\n",
      "---------------------\n",
      "\n",
      "Retrieving Results for Ābu Road.\n",
      "Could not find a hotel for Ābu Road... skipping to next vacation spot.\n",
      "------------\n",
      "Retrieving Results for Saint George.\n",
      "Could not find a hotel for Saint George... skipping to next vacation spot.\n",
      "------------\n",
      "Retrieving Results for Bassar.\n",
      "Could not find a hotel for Bassar... skipping to next vacation spot.\n",
      "------------\n",
      "Retrieving Results for Kiryat Gat.\n",
      "Could not find a hotel for Kiryat Gat... skipping to next vacation spot.\n",
      "------------\n",
      "Retrieving Results for Kidal.\n",
      "Could not find a hotel for Kidal... skipping to next vacation spot.\n",
      "------------\n",
      "Retrieving Results for Aranos.\n",
      "Could not find a hotel for Aranos... skipping to next vacation spot.\n",
      "------------\n",
      "Retrieving Results for San Rafael.\n",
      "Could not find a hotel for San Rafael... skipping to next vacation spot.\n",
      "------------\n",
      "Retrieving Results for Sokolo.\n",
      "Could not find a hotel for Sokolo... skipping to next vacation spot.\n",
      "------------\n",
      "Retrieving Results for Gaza.\n",
      "Could not find a hotel for Gaza... skipping to next vacation spot.\n",
      "------------\n",
      "Retrieving Results for Gogrial.\n",
      "Could not find a hotel for Gogrial... skipping to next vacation spot.\n",
      "------------\n",
      "Retrieving Results for Bilma.\n",
      "Could not find a hotel for Bilma... skipping to next vacation spot.\n",
      "------------\n",
      "Retrieving Results for Araouane.\n",
      "Could not find a hotel for Araouane... skipping to next vacation spot.\n",
      "------------\n",
      "Retrieving Results for Gashua.\n",
      "Could not find a hotel for Gashua... skipping to next vacation spot.\n",
      "------------\n",
      "Retrieving Results for Ouargaye.\n",
      "Could not find a hotel for Ouargaye... skipping to next vacation spot.\n",
      "------------\n",
      "Retrieving Results for Tanout.\n",
      "Could not find a hotel for Tanout... skipping to next vacation spot.\n",
      "------------\n",
      "\n",
      "------------------------\n",
      "The search has concluded\n",
      "------------------------\n",
      "\n"
     ]
    }
   ],
   "source": [
    "print('''\n",
    "---------------------\n",
    "Beginning your search\n",
    "---------------------\n",
    "''')\n",
    "for index, row in hotel_df.iterrows():\n",
    "    # Retrieve hotels but I have to go by the lat and long\n",
    "    lat = row[\"Lat\"]\n",
    "    long = row[\"Lng\"]\n",
    "    name = row[\"City\"]\n",
    "    # add keyword to params dict\n",
    "    params[\"location\"] = (f\"{lat},{long}\")\n",
    "    # assemble url and make API request\n",
    "    print(f\"Retrieving Results for {name}.\")\n",
    "    response = requests.get(base_url, params=params).json()\n",
    "    # extract results\n",
    "    results = response['results']\n",
    "    try:\n",
    "        print(f\"The closest hotel to {name} is {results[0]['name']}\")\n",
    "        hotel_df.loc[index, \"Hotel Name\"] = results[0]['name']\n",
    "        hotel_df.loc[index, \"Hotel Lat\"] = results[0]['geometry']['location']['lat']\n",
    "        hotel_df.loc[index, \"Hotel Lng\"] = results[0]['geometry']['location']['lng']\n",
    "        \n",
    "    except(KeyError, IndexError):\n",
    "        print(f\"Could not find a hotel for {name}... skipping to next vacation spot.\")\n",
    "        hotel_df.loc[index, \"Hotel Name\"] = \"Not Found\"\n",
    "        hotel_df.loc[index, \"Hotel Lat\"] = hotel_df.loc[index, \"Lat\"]\n",
    "        hotel_df.loc[index, \"Hotel Lng\"] = hotel_df.loc[index, \"Lng\"]\n",
    "    print(\"------------\")\n",
    "    \n",
    "print('''\n",
    "------------------------\n",
    "The search has concluded\n",
    "------------------------\n",
    "''')"
   ]
  },
  {
   "cell_type": "code",
   "execution_count": 9,
   "metadata": {},
   "outputs": [
    {
     "output_type": "execute_result",
     "data": {
      "text/plain": [
       "             City Country    Lat     Lng Hotel Name  Hotel Lat  Hotel Lng\n",
       "3        Ābu Road      IN  24.48   72.78  Not Found      24.48      72.78\n",
       "15   Saint George      US  37.10 -113.58  Not Found      37.10    -113.58\n",
       "69         Bassar      TG   9.25    0.78  Not Found       9.25       0.78\n",
       "115    Kiryat Gat      IL  31.61   34.76  Not Found      31.61      34.76\n",
       "119         Kidal      ML  18.44    1.41  Not Found      18.44       1.41\n",
       "122        Aranos     NaN -24.13   19.12  Not Found     -24.13      19.12\n",
       "139    San Rafael      AR -34.62  -68.33  Not Found     -34.62     -68.33\n",
       "158        Sokolo      ML  14.73   -6.12  Not Found      14.73      -6.12\n",
       "205          Gaza      PS  31.50   34.47  Not Found      31.50      34.47\n",
       "334       Gogrial      SS   8.53   28.10  Not Found       8.53      28.10\n",
       "375         Bilma      NE  18.69   12.92  Not Found      18.69      12.92\n",
       "505      Araouane      ML  18.90   -3.53  Not Found      18.90      -3.53\n",
       "513        Gashua      NG  12.87   11.05  Not Found      12.87      11.05\n",
       "528      Ouargaye      BF  11.50    0.06  Not Found      11.50       0.06\n",
       "547        Tanout      NE  14.97    8.89  Not Found      14.97       8.89"
      ],
      "text/html": "<div>\n<style scoped>\n    .dataframe tbody tr th:only-of-type {\n        vertical-align: middle;\n    }\n\n    .dataframe tbody tr th {\n        vertical-align: top;\n    }\n\n    .dataframe thead th {\n        text-align: right;\n    }\n</style>\n<table border=\"1\" class=\"dataframe\">\n  <thead>\n    <tr style=\"text-align: right;\">\n      <th></th>\n      <th>City</th>\n      <th>Country</th>\n      <th>Lat</th>\n      <th>Lng</th>\n      <th>Hotel Name</th>\n      <th>Hotel Lat</th>\n      <th>Hotel Lng</th>\n    </tr>\n  </thead>\n  <tbody>\n    <tr>\n      <th>3</th>\n      <td>Ābu Road</td>\n      <td>IN</td>\n      <td>24.48</td>\n      <td>72.78</td>\n      <td>Not Found</td>\n      <td>24.48</td>\n      <td>72.78</td>\n    </tr>\n    <tr>\n      <th>15</th>\n      <td>Saint George</td>\n      <td>US</td>\n      <td>37.10</td>\n      <td>-113.58</td>\n      <td>Not Found</td>\n      <td>37.10</td>\n      <td>-113.58</td>\n    </tr>\n    <tr>\n      <th>69</th>\n      <td>Bassar</td>\n      <td>TG</td>\n      <td>9.25</td>\n      <td>0.78</td>\n      <td>Not Found</td>\n      <td>9.25</td>\n      <td>0.78</td>\n    </tr>\n    <tr>\n      <th>115</th>\n      <td>Kiryat Gat</td>\n      <td>IL</td>\n      <td>31.61</td>\n      <td>34.76</td>\n      <td>Not Found</td>\n      <td>31.61</td>\n      <td>34.76</td>\n    </tr>\n    <tr>\n      <th>119</th>\n      <td>Kidal</td>\n      <td>ML</td>\n      <td>18.44</td>\n      <td>1.41</td>\n      <td>Not Found</td>\n      <td>18.44</td>\n      <td>1.41</td>\n    </tr>\n    <tr>\n      <th>122</th>\n      <td>Aranos</td>\n      <td>NaN</td>\n      <td>-24.13</td>\n      <td>19.12</td>\n      <td>Not Found</td>\n      <td>-24.13</td>\n      <td>19.12</td>\n    </tr>\n    <tr>\n      <th>139</th>\n      <td>San Rafael</td>\n      <td>AR</td>\n      <td>-34.62</td>\n      <td>-68.33</td>\n      <td>Not Found</td>\n      <td>-34.62</td>\n      <td>-68.33</td>\n    </tr>\n    <tr>\n      <th>158</th>\n      <td>Sokolo</td>\n      <td>ML</td>\n      <td>14.73</td>\n      <td>-6.12</td>\n      <td>Not Found</td>\n      <td>14.73</td>\n      <td>-6.12</td>\n    </tr>\n    <tr>\n      <th>205</th>\n      <td>Gaza</td>\n      <td>PS</td>\n      <td>31.50</td>\n      <td>34.47</td>\n      <td>Not Found</td>\n      <td>31.50</td>\n      <td>34.47</td>\n    </tr>\n    <tr>\n      <th>334</th>\n      <td>Gogrial</td>\n      <td>SS</td>\n      <td>8.53</td>\n      <td>28.10</td>\n      <td>Not Found</td>\n      <td>8.53</td>\n      <td>28.10</td>\n    </tr>\n    <tr>\n      <th>375</th>\n      <td>Bilma</td>\n      <td>NE</td>\n      <td>18.69</td>\n      <td>12.92</td>\n      <td>Not Found</td>\n      <td>18.69</td>\n      <td>12.92</td>\n    </tr>\n    <tr>\n      <th>505</th>\n      <td>Araouane</td>\n      <td>ML</td>\n      <td>18.90</td>\n      <td>-3.53</td>\n      <td>Not Found</td>\n      <td>18.90</td>\n      <td>-3.53</td>\n    </tr>\n    <tr>\n      <th>513</th>\n      <td>Gashua</td>\n      <td>NG</td>\n      <td>12.87</td>\n      <td>11.05</td>\n      <td>Not Found</td>\n      <td>12.87</td>\n      <td>11.05</td>\n    </tr>\n    <tr>\n      <th>528</th>\n      <td>Ouargaye</td>\n      <td>BF</td>\n      <td>11.50</td>\n      <td>0.06</td>\n      <td>Not Found</td>\n      <td>11.50</td>\n      <td>0.06</td>\n    </tr>\n    <tr>\n      <th>547</th>\n      <td>Tanout</td>\n      <td>NE</td>\n      <td>14.97</td>\n      <td>8.89</td>\n      <td>Not Found</td>\n      <td>14.97</td>\n      <td>8.89</td>\n    </tr>\n  </tbody>\n</table>\n</div>"
     },
     "metadata": {},
     "execution_count": 9
    }
   ],
   "source": [
    "hotel_df['Hotel Lat'] = hotel_df['Hotel Lat'].astype(float)\n",
    "hotel_df['Hotel Lng'] = hotel_df['Hotel Lng'].astype(float)\n",
    "hotel_df"
   ]
  },
  {
   "cell_type": "code",
   "execution_count": 10,
   "metadata": {},
   "outputs": [],
   "source": [
    "# NOTE: Do not change any of the code in this cell\n",
    "\n",
    "# Using the template add the hotel marks to the heatmap\n",
    "info_box_template = \"\"\"\n",
    "<dl>\n",
    "<dt>Name</dt><dd>{Hotel Name}</dd>\n",
    "<dt>City</dt><dd>{City}</dd>\n",
    "<dt>Country</dt><dd>{Country}</dd>\n",
    "</dl>\n",
    "\"\"\"\n",
    "# Store the DataFrame Row\n",
    "# NOTE: be sure to update with your DataFrame name\n",
    "hotel_info = [info_box_template.format(**row) for index, row in hotel_df.iterrows()]\n",
    "locations = hotel_df[[\"Lat\", \"Lng\"]]"
   ]
  },
  {
   "cell_type": "code",
   "execution_count": 11,
   "metadata": {},
   "outputs": [],
   "source": [
    "# Add marker layer ontop of heat map\n",
    "\n",
    "\n",
    "# Display figure\n"
   ]
  },
  {
   "cell_type": "code",
   "execution_count": 12,
   "metadata": {},
   "outputs": [
    {
     "output_type": "display_data",
     "data": {
      "text/plain": "Figure(layout=FigureLayout(border='2px solid black', height='500px', margin='0 auto 0 auto', padding='1px', wi…",
      "application/vnd.jupyter.widget-view+json": {
       "version_major": 2,
       "version_minor": 0,
       "model_id": "9655ce7ca4314ab699f2844ab74aee73"
      }
     },
     "metadata": {}
    }
   ],
   "source": [
    "figure_layout = {\n",
    "    'width': '900px',\n",
    "    'height': '500px',\n",
    "    'border': '2px solid black',\n",
    "    'padding': '1px',\n",
    "    'margin': '0 auto 0 auto'\n",
    "}\n",
    "fig = gmaps.figure(layout=figure_layout)\n",
    "markers = gmaps.marker_layer(locations, info_box_content = hotel_info)\n",
    "gmaps.figure(layout=figure_layout)\n",
    "fig.add_layer(markers)\n",
    "fig.add_layer(heat_layer)\n",
    "fig"
   ]
  },
  {
   "cell_type": "code",
   "execution_count": null,
   "metadata": {},
   "outputs": [],
   "source": []
  }
 ],
 "metadata": {
  "kernelspec": {
   "display_name": "Python 3",
   "language": "python",
   "name": "python3"
  },
  "language_info": {
   "codemirror_mode": {
    "name": "ipython",
    "version": 3
   },
   "file_extension": ".py",
   "mimetype": "text/x-python",
   "name": "python",
   "nbconvert_exporter": "python",
   "pygments_lexer": "ipython3",
   "version": "3.8.3-final"
  },
  "latex_envs": {
   "LaTeX_envs_menu_present": true,
   "autoclose": false,
   "autocomplete": true,
   "bibliofile": "biblio.bib",
   "cite_by": "apalike",
   "current_citInitial": 1,
   "eqLabelWithNumbers": true,
   "eqNumInitial": 1,
   "hotkeys": {
    "equation": "Ctrl-E",
    "itemize": "Ctrl-I"
   },
   "labels_anchors": false,
   "latex_user_defs": false,
   "report_style_numbering": false,
   "user_envs_cfg": false
  }
 },
 "nbformat": 4,
 "nbformat_minor": 4
}